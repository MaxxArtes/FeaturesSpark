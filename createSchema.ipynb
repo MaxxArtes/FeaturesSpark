from spark_cofig import SparkConfig


schema_name = "schema_teste2"

spark_cofig = SparkConfig()
spark = spark_setup.build_prata_spark_session(schema_name)

try:
    print("Iniciando o processo...")
    print("Criação do banco de dados se não existir")
    spark.sql(f"CREATE DATABASE IF NOT EXISTS {schema_name}")
    spark.sql("SHOW DATABASE IN catalogo_desenv").show()
    #print("sql finalizado")
except Exception as e:
    print(f"Ocorreu um erro: {e}")

finally:
    spark.stop()   
    print("Processo finalizado.")
