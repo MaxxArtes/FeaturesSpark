from spark_setup_desenv import SparkSetup


schema_name = "schema_teste2"

spark_setup = SparkSetup()
spark = spark_setup.build_prata_spark_session(schema_name)

try:
    print("Iniciando o processo...")
    print("Criação do banco de dados se não existir")
    spark.sql(f"CREATE TABLE IF NOT EXISTS {schema_name}")
    spark.sql("SHOW TABLE IN `nessie-desenv`").show()
    #print("sql finalizado")
except Exception as e:
    print(f"Ocorreu um erro: {e}")

finally:
    spark.stop()   
    print("Processo finalizado.")
